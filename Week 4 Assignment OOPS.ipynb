{
 "cells": [
  {
   "cell_type": "markdown",
   "id": "c1a41208-16de-4822-a174-8b6f669301d2",
   "metadata": {},
   "source": [
    "#### Q1 Create a vehicle class with an init method having instance variables as name_of_vehicle, max_speed and average_of_vehicle."
   ]
  },
  {
   "cell_type": "code",
   "execution_count": 4,
   "id": "4fbf13cb-e11f-4170-b9e7-25fa00f28c60",
   "metadata": {},
   "outputs": [
    {
     "name": "stdout",
     "output_type": "stream",
     "text": [
      "Name: Car\n",
      "Max Speed: 200 km/h\n",
      "Average: 30 km/l\n"
     ]
    }
   ],
   "source": [
    "class Vehicle:\n",
    "    def __init__(self, name_of_vehicle, max_speed, average_of_vehicle):\n",
    "        self.name_of_vehicle = name_of_vehicle\n",
    "        self.max_speed = max_speed\n",
    "        self.average_of_vehicle = average_of_vehicle\n",
    "\n",
    "# Creating an instance of the Vehicle class\n",
    "car = Vehicle(\"Car\", 200, 30)\n",
    "print(f\"Name: {car.name_of_vehicle}\")\n",
    "print(f\"Max Speed: {car.max_speed} km/h\")\n",
    "print(f\"Average: {car.average_of_vehicle} km/l\")"
   ]
  },
  {
   "cell_type": "markdown",
   "id": "342c29eb-3213-47d4-9d99-f6ccd722de53",
   "metadata": {},
   "source": [
    "#### Q2. Create a child class car from the vehicle class created in Que 1, which will inherit the vehicle class. Create a method named seating_capacity which takes capacity as an argument and returns the name of the vehicle and its seating capacity."
   ]
  },
  {
   "cell_type": "code",
   "execution_count": 5,
   "id": "70b52432-3594-464f-84a7-b26b970f2056",
   "metadata": {},
   "outputs": [
    {
     "name": "stdout",
     "output_type": "stream",
     "text": [
      "Sedan has a seating capacity of 5 people.\n"
     ]
    }
   ],
   "source": [
    "class Vehicle:\n",
    "    def __init__(self, name_of_vehicle, max_speed, average_of_vehicle):\n",
    "        self.name_of_vehicle = name_of_vehicle\n",
    "        self.max_speed = max_speed\n",
    "        self.average_of_vehicle = average_of_vehicle\n",
    "\n",
    "class Car(Vehicle):\n",
    "    def __init__(self, name_of_vehicle, max_speed, average_of_vehicle):\n",
    "        super().__init__(name_of_vehicle, max_speed, average_of_vehicle)\n",
    "\n",
    "    def seating_capacity(self, capacity):\n",
    "        return f\"{self.name_of_vehicle} has a seating capacity of {capacity} people.\"\n",
    "\n",
    "# Creating an instance of the Car class\n",
    "car = Car(\"Sedan\", 180, 25)\n",
    "print(car.seating_capacity(5))\n"
   ]
  },
  {
   "cell_type": "markdown",
   "id": "8750e867-d0ec-46b8-836d-5ddb13190539",
   "metadata": {},
   "source": [
    "#### Q3. What is multiple inheritance? Write a python code to demonstrate multiple inheritance."
   ]
  },
  {
   "cell_type": "markdown",
   "id": "a4a1cba9-f6fe-4877-a366-974cf811e785",
   "metadata": {},
   "source": [
    "#### Multiple inheritance is a feature in object-oriented programming languages where a class can inherit attributes and methods from more than one parent class. This allows a child class to inherit behaviors from multiple sources. However, multiple inheritance can also lead to complex relationships and potential conflicts if not managed properly. Example of python progam is shown below :-"
   ]
  },
  {
   "cell_type": "code",
   "execution_count": 6,
   "id": "18f59b78-dcf0-44bd-a854-e8b00edd6a6e",
   "metadata": {},
   "outputs": [
    {
     "name": "stdout",
     "output_type": "stream",
     "text": [
      "Car: Sedan, Engine: Petrol, Model: 2023\n"
     ]
    }
   ],
   "source": [
    "class Vehicle:\n",
    "    def __init__(self, name):\n",
    "        self.name = name\n",
    "\n",
    "    def display(self):\n",
    "        return f\"Vehicle: {self.name}\"\n",
    "\n",
    "class Engine:\n",
    "    def __init__(self, engine_type):\n",
    "        self.engine_type = engine_type\n",
    "\n",
    "    def display(self):\n",
    "        return f\"Engine Type: {self.engine_type}\"\n",
    "\n",
    "class Car(Vehicle, Engine):\n",
    "    def __init__(self, name, engine_type, model):\n",
    "        Vehicle.__init__(self, name)\n",
    "        Engine.__init__(self, engine_type)\n",
    "        self.model = model\n",
    "\n",
    "    def display(self):\n",
    "        return f\"Car: {self.name}, Engine: {self.engine_type}, Model: {self.model}\"\n",
    "\n",
    "# Creating an instance of the Car class\n",
    "my_car = Car(\"Sedan\", \"Petrol\", \"2023\")\n",
    "print(my_car.display())\n"
   ]
  },
  {
   "cell_type": "markdown",
   "id": "9bc79490-e293-4c66-9ed7-7a4af810610d",
   "metadata": {},
   "source": [
    "#### Q4. What are getter and setter in python? Create a class and create a getter and a setter method in this class."
   ]
  },
  {
   "cell_type": "markdown",
   "id": "8568fedf-ee01-472a-aa2e-3fe74e6d20f9",
   "metadata": {},
   "source": [
    "#### ANS:- Getter Method: A getter method is used to retrieve the value of an attribute. It allows you to access a private attribute without directly exposing it. \n",
    "####       Setter Method: A setter method is used to set the value of an attribute. It provides a controlled way to modify the value of a private attribute, often including validation or other logic.\n",
    "####       Example program is :-"
   ]
  },
  {
   "cell_type": "code",
   "execution_count": 8,
   "id": "32bbfd24-579a-4a55-a5f7-d6eba2eea284",
   "metadata": {},
   "outputs": [
    {
     "name": "stdout",
     "output_type": "stream",
     "text": [
      "Name: Alice\n",
      "Age: 30\n",
      "Updated Name: Bob\n",
      "Updated Age: 25\n",
      "Age cannot be negative.\n"
     ]
    }
   ],
   "source": [
    "class Person:\n",
    "    def __init__(self, name, age):\n",
    "        self.__name = name  # Private attribute\n",
    "        self.__age = age    # Private attribute\n",
    "\n",
    "    # Getter method for name\n",
    "    def get_name(self):\n",
    "        return self.__name\n",
    "\n",
    "    # Setter method for name\n",
    "    def set_name(self, name):\n",
    "        self.__name = name\n",
    "\n",
    "    # Getter method for age\n",
    "    def get_age(self):\n",
    "        return self.__age\n",
    "\n",
    "    # Setter method for age\n",
    "    def set_age(self, age):\n",
    "        if age >= 0:\n",
    "            self.__age = age\n",
    "        else:\n",
    "            print(\"Age cannot be negative.\")\n",
    "\n",
    "# Creating an instance of the Person class\n",
    "person = Person(\"Alice\", 30)\n",
    "\n",
    "# Using getter methods\n",
    "print(\"Name:\", person.get_name())\n",
    "print(\"Age:\", person.get_age())\n",
    "\n",
    "# Using setter methods\n",
    "person.set_name(\"Bob\")\n",
    "person.set_age(25)\n",
    "\n",
    "print(\"Updated Name:\", person.get_name())\n",
    "print(\"Updated Age:\", person.get_age())\n",
    "\n",
    "# Trying to set negative age using setter\n",
    "person.set_age(-5)  # This will print \"Age cannot be negative.\"\n"
   ]
  },
  {
   "cell_type": "markdown",
   "id": "f61e6aee-e719-4710-9609-3bda2091d237",
   "metadata": {},
   "source": [
    "#### Q5.What is method overriding in python? Write a python code to demonstrate method overriding."
   ]
  },
  {
   "cell_type": "markdown",
   "id": "e3536253-2b61-48b1-aac1-7658e5969588",
   "metadata": {},
   "source": [
    "#### Ans:- Method overriding in Python refers to the ability of a subclass to provide a specific implementation for a method that is already defined in its superclass. This allows the subclass to customize the behavior of the inherited method without changing its name or parameters."
   ]
  },
  {
   "cell_type": "code",
   "execution_count": 9,
   "id": "497ef228-fc7b-4916-8074-463e8ef68756",
   "metadata": {},
   "outputs": [
    {
     "name": "stdout",
     "output_type": "stream",
     "text": [
      "This is a vehicle.\n",
      "This is a car.\n",
      "This is a vehicle.\n"
     ]
    }
   ],
   "source": [
    "class Vehicle:\n",
    "    def display_info(self):\n",
    "        return \"This is a vehicle.\"\n",
    "\n",
    "class Car(Vehicle):\n",
    "    def display_info(self):\n",
    "        return \"This is a car.\"\n",
    "\n",
    "class Bike(Vehicle):\n",
    "    pass  # No specific implementation, will use the parent's display_info()\n",
    "\n",
    "# Creating instances of the classes\n",
    "vehicle = Vehicle()\n",
    "car = Car()\n",
    "bike = Bike()\n",
    "\n",
    "print(vehicle.display_info())  # Output: \"This is a vehicle.\"\n",
    "print(car.display_info())      # Output: \"This is a car.\"\n",
    "print(bike.display_info())     # Output: \"This is a vehicle.\" (inherited from the parent)\n"
   ]
  },
  {
   "cell_type": "code",
   "execution_count": null,
   "id": "a7081815-f33d-4b70-84a7-17de74b9f817",
   "metadata": {},
   "outputs": [],
   "source": []
  }
 ],
 "metadata": {
  "kernelspec": {
   "display_name": "Python 3 (ipykernel)",
   "language": "python",
   "name": "python3"
  },
  "language_info": {
   "codemirror_mode": {
    "name": "ipython",
    "version": 3
   },
   "file_extension": ".py",
   "mimetype": "text/x-python",
   "name": "python",
   "nbconvert_exporter": "python",
   "pygments_lexer": "ipython3",
   "version": "3.10.8"
  }
 },
 "nbformat": 4,
 "nbformat_minor": 5
}
